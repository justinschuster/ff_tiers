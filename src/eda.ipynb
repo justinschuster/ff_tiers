{
 "cells": [
  {
   "cell_type": "code",
   "execution_count": 1,
   "metadata": {},
   "outputs": [
    {
     "data": {
      "text/html": [
       "<div>\n",
       "<style scoped>\n",
       "    .dataframe tbody tr th:only-of-type {\n",
       "        vertical-align: middle;\n",
       "    }\n",
       "\n",
       "    .dataframe tbody tr th {\n",
       "        vertical-align: top;\n",
       "    }\n",
       "\n",
       "    .dataframe thead th {\n",
       "        text-align: right;\n",
       "    }\n",
       "</style>\n",
       "<table border=\"1\" class=\"dataframe\">\n",
       "  <thead>\n",
       "    <tr style=\"text-align: right;\">\n",
       "      <th></th>\n",
       "      <th>consensus_ranking</th>\n",
       "      <th>player_name</th>\n",
       "      <th>team_name_abbrev</th>\n",
       "      <th>position</th>\n",
       "      <th>bye_week</th>\n",
       "      <th>best_ranking</th>\n",
       "      <th>worst_ranking</th>\n",
       "      <th>average_ranking</th>\n",
       "      <th>ranking_std</th>\n",
       "      <th>ADP</th>\n",
       "      <th>vs ADP</th>\n",
       "    </tr>\n",
       "  </thead>\n",
       "  <tbody>\n",
       "    <tr>\n",
       "      <th>0</th>\n",
       "      <td>1</td>\n",
       "      <td>Christian McCaffrey</td>\n",
       "      <td>CAR</td>\n",
       "      <td>RB</td>\n",
       "      <td>13.0</td>\n",
       "      <td>1</td>\n",
       "      <td>6</td>\n",
       "      <td>1.3</td>\n",
       "      <td>1.0</td>\n",
       "      <td>1.0</td>\n",
       "      <td>0.0</td>\n",
       "    </tr>\n",
       "    <tr>\n",
       "      <th>1</th>\n",
       "      <td>2</td>\n",
       "      <td>Saquon Barkley</td>\n",
       "      <td>NYG</td>\n",
       "      <td>RB</td>\n",
       "      <td>11.0</td>\n",
       "      <td>1</td>\n",
       "      <td>6</td>\n",
       "      <td>2.8</td>\n",
       "      <td>1.1</td>\n",
       "      <td>2.0</td>\n",
       "      <td>0.0</td>\n",
       "    </tr>\n",
       "    <tr>\n",
       "      <th>2</th>\n",
       "      <td>3</td>\n",
       "      <td>Michael Thomas</td>\n",
       "      <td>NO</td>\n",
       "      <td>WR</td>\n",
       "      <td>6.0</td>\n",
       "      <td>2</td>\n",
       "      <td>11</td>\n",
       "      <td>3.6</td>\n",
       "      <td>1.5</td>\n",
       "      <td>7.0</td>\n",
       "      <td>4.0</td>\n",
       "    </tr>\n",
       "    <tr>\n",
       "      <th>3</th>\n",
       "      <td>4</td>\n",
       "      <td>Ezekiel Elliott</td>\n",
       "      <td>DAL</td>\n",
       "      <td>RB</td>\n",
       "      <td>10.0</td>\n",
       "      <td>2</td>\n",
       "      <td>19</td>\n",
       "      <td>3.9</td>\n",
       "      <td>1.2</td>\n",
       "      <td>3.0</td>\n",
       "      <td>-1.0</td>\n",
       "    </tr>\n",
       "    <tr>\n",
       "      <th>4</th>\n",
       "      <td>5</td>\n",
       "      <td>Derrick Henry</td>\n",
       "      <td>TEN</td>\n",
       "      <td>RB</td>\n",
       "      <td>7.0</td>\n",
       "      <td>2</td>\n",
       "      <td>13</td>\n",
       "      <td>5.3</td>\n",
       "      <td>2.2</td>\n",
       "      <td>6.0</td>\n",
       "      <td>1.0</td>\n",
       "    </tr>\n",
       "  </tbody>\n",
       "</table>\n",
       "</div>"
      ],
      "text/plain": [
       "   consensus_ranking          player_name team_name_abbrev position  bye_week  \\\n",
       "0                  1  Christian McCaffrey              CAR       RB      13.0   \n",
       "1                  2       Saquon Barkley              NYG       RB      11.0   \n",
       "2                  3       Michael Thomas               NO       WR       6.0   \n",
       "3                  4      Ezekiel Elliott              DAL       RB      10.0   \n",
       "4                  5        Derrick Henry              TEN       RB       7.0   \n",
       "\n",
       "   best_ranking  worst_ranking  average_ranking  ranking_std  ADP  vs ADP  \n",
       "0             1              6              1.3          1.0  1.0     0.0  \n",
       "1             1              6              2.8          1.1  2.0     0.0  \n",
       "2             2             11              3.6          1.5  7.0     4.0  \n",
       "3             2             19              3.9          1.2  3.0    -1.0  \n",
       "4             2             13              5.3          2.2  6.0     1.0  "
      ]
     },
     "execution_count": 1,
     "metadata": {},
     "output_type": "execute_result"
    }
   ],
   "source": [
    "import pandas as pd\n",
    "import numpy as np \n",
    "import matplotlib.pyplot as plt\n",
    "\n",
    "data = pd.read_csv(\"../data/rankings.csv\")\n",
    "data.head()"
   ]
  },
  {
   "cell_type": "code",
   "execution_count": 2,
   "metadata": {},
   "outputs": [
    {
     "data": {
      "image/png": "[encoded data removed]",
      "text/plain": [
       "<Figure size 432x288 with 1 Axes>"
      ]
     },
     "metadata": {
      "needs_background": "light"
     },
     "output_type": "display_data"
    }
   ],
   "source": [
    "fig, ax = plt.subplots()\n",
    "ax.scatter(data['consensus_ranking'], data['average_ranking'])\n",
    "plt.ylabel('Average Ranking')\n",
    "plt.xlabel('Consensus Ranking')\n",
    "plt.show()"
   ]
  },
  {
   "cell_type": "code",
   "execution_count": 3,
   "metadata": {},
   "outputs": [],
   "source": [
    "data_copy = data\n",
    "y = data_copy['average_ranking']\n",
    "X = data_copy.drop(['average_ranking'], axis=1)"
   ]
  },
  {
   "cell_type": "code",
   "execution_count": 4,
   "metadata": {},
   "outputs": [
    {
     "data": {
      "text/plain": [
       "average_ranking      1.000000\n",
       "consensus_ranking    0.971868\n",
       "ADP                  0.971760\n",
       "worst_ranking        0.930179\n",
       "best_ranking         0.929508\n",
       "ranking_std          0.424684\n",
       "bye_week            -0.016917\n",
       "vs ADP              -0.166061\n",
       "Name: average_ranking, dtype: float64"
      ]
     },
     "execution_count": 4,
     "metadata": {},
     "output_type": "execute_result"
    }
   ],
   "source": [
    "corr_matrix = data_copy.corr()\n",
    "corr_matrix['average_ranking'].sort_values(ascending=False)"
   ]
  },
  {
   "cell_type": "code",
   "execution_count": 5,
   "metadata": {},
   "outputs": [
    {
     "data": {
      "text/html": [
       "<div>\n",
       "<style scoped>\n",
       "    .dataframe tbody tr th:only-of-type {\n",
       "        vertical-align: middle;\n",
       "    }\n",
       "\n",
       "    .dataframe tbody tr th {\n",
       "        vertical-align: top;\n",
       "    }\n",
       "\n",
       "    .dataframe thead th {\n",
       "        text-align: right;\n",
       "    }\n",
       "</style>\n",
       "<table border=\"1\" class=\"dataframe\">\n",
       "  <thead>\n",
       "    <tr style=\"text-align: right;\">\n",
       "      <th></th>\n",
       "      <th>consensus_ranking</th>\n",
       "      <th>player_name</th>\n",
       "      <th>team_name_abbrev</th>\n",
       "      <th>position</th>\n",
       "      <th>bye_week</th>\n",
       "      <th>best_ranking</th>\n",
       "      <th>worst_ranking</th>\n",
       "      <th>ranking_std</th>\n",
       "      <th>ADP</th>\n",
       "      <th>vs ADP</th>\n",
       "    </tr>\n",
       "  </thead>\n",
       "  <tbody>\n",
       "    <tr>\n",
       "      <th>0</th>\n",
       "      <td>1</td>\n",
       "      <td>Christian McCaffrey</td>\n",
       "      <td>CAR</td>\n",
       "      <td>3.0</td>\n",
       "      <td>13.0</td>\n",
       "      <td>1</td>\n",
       "      <td>6</td>\n",
       "      <td>1.0</td>\n",
       "      <td>1.0</td>\n",
       "      <td>0.0</td>\n",
       "    </tr>\n",
       "    <tr>\n",
       "      <th>1</th>\n",
       "      <td>2</td>\n",
       "      <td>Saquon Barkley</td>\n",
       "      <td>NYG</td>\n",
       "      <td>3.0</td>\n",
       "      <td>11.0</td>\n",
       "      <td>1</td>\n",
       "      <td>6</td>\n",
       "      <td>1.1</td>\n",
       "      <td>2.0</td>\n",
       "      <td>0.0</td>\n",
       "    </tr>\n",
       "    <tr>\n",
       "      <th>2</th>\n",
       "      <td>3</td>\n",
       "      <td>Michael Thomas</td>\n",
       "      <td>NO</td>\n",
       "      <td>5.0</td>\n",
       "      <td>6.0</td>\n",
       "      <td>2</td>\n",
       "      <td>11</td>\n",
       "      <td>1.5</td>\n",
       "      <td>7.0</td>\n",
       "      <td>4.0</td>\n",
       "    </tr>\n",
       "    <tr>\n",
       "      <th>3</th>\n",
       "      <td>4</td>\n",
       "      <td>Ezekiel Elliott</td>\n",
       "      <td>DAL</td>\n",
       "      <td>3.0</td>\n",
       "      <td>10.0</td>\n",
       "      <td>2</td>\n",
       "      <td>19</td>\n",
       "      <td>1.2</td>\n",
       "      <td>3.0</td>\n",
       "      <td>-1.0</td>\n",
       "    </tr>\n",
       "    <tr>\n",
       "      <th>4</th>\n",
       "      <td>5</td>\n",
       "      <td>Derrick Henry</td>\n",
       "      <td>TEN</td>\n",
       "      <td>3.0</td>\n",
       "      <td>7.0</td>\n",
       "      <td>2</td>\n",
       "      <td>13</td>\n",
       "      <td>2.2</td>\n",
       "      <td>6.0</td>\n",
       "      <td>1.0</td>\n",
       "    </tr>\n",
       "  </tbody>\n",
       "</table>\n",
       "</div>"
      ],
      "text/plain": [
       "   consensus_ranking          player_name team_name_abbrev  position  \\\n",
       "0                  1  Christian McCaffrey              CAR       3.0   \n",
       "1                  2       Saquon Barkley              NYG       3.0   \n",
       "2                  3       Michael Thomas               NO       5.0   \n",
       "3                  4      Ezekiel Elliott              DAL       3.0   \n",
       "4                  5        Derrick Henry              TEN       3.0   \n",
       "\n",
       "   bye_week  best_ranking  worst_ranking  ranking_std  ADP  vs ADP  \n",
       "0      13.0             1              6          1.0  1.0     0.0  \n",
       "1      11.0             1              6          1.1  2.0     0.0  \n",
       "2       6.0             2             11          1.5  7.0     4.0  \n",
       "3      10.0             2             19          1.2  3.0    -1.0  \n",
       "4       7.0             2             13          2.2  6.0     1.0  "
      ]
     },
     "execution_count": 5,
     "metadata": {},
     "output_type": "execute_result"
    }
   ],
   "source": [
    "from sklearn.preprocessing import OrdinalEncoder\n",
    "\n",
    "position_cat = X[['position']]\n",
    "ordinal_encoder = OrdinalEncoder()\n",
    "position_encode = ordinal_encoder.fit_transform(position_cat)\n",
    "X['position'] = position_encode\n",
    "X.head()"
   ]
  },
  {
   "cell_type": "code",
   "execution_count": 6,
   "metadata": {},
   "outputs": [],
   "source": [
    "X['bye_week'].fillna(method='ffill')\n",
    "X['vs ADP'].fillna(method='ffill')\n",
    "X['ADP'].fillna(method='ffill', inplace=True)"
   ]
  },
  {
   "cell_type": "code",
   "execution_count": 7,
   "metadata": {},
   "outputs": [],
   "source": [
    "from sklearn.cluster import KMeans\n",
    " \n",
    "categories = ['position', 'best_ranking', 'worst_ranking', 'ranking_std']\n",
    "X = X[categories]\n",
    "k = 14\n",
    "kmeans = KMeans(n_clusters=k)\n",
    "y_pred = kmeans.fit_predict(X)"
   ]
  },
  {
   "cell_type": "code",
   "execution_count": 8,
   "metadata": {},
   "outputs": [
    {
     "data": {
      "image/png": "[encoded data removed]",
      "text/plain": [
       "<Figure size 432x288 with 1 Axes>"
      ]
     },
     "metadata": {
      "needs_background": "light"
     },
     "output_type": "display_data"
    }
   ],
   "source": [
    "data_copy['cluster'] = y_pred\n",
    "plt.scatter(data_copy['consensus_ranking'], data_copy['cluster'])\n",
    "plt.ylabel('Cluster')\n",
    "plt.xlabel('Player Index')\n",
    "plt.show()"
   ]
  },
  {
   "cell_type": "code",
   "execution_count": 9,
   "metadata": {},
   "outputs": [
    {
     "data": {
      "text/html": [
       "<div>\n",
       "<style scoped>\n",
       "    .dataframe tbody tr th:only-of-type {\n",
       "        vertical-align: middle;\n",
       "    }\n",
       "\n",
       "    .dataframe tbody tr th {\n",
       "        vertical-align: top;\n",
       "    }\n",
       "\n",
       "    .dataframe thead th {\n",
       "        text-align: right;\n",
       "    }\n",
       "</style>\n",
       "<table border=\"1\" class=\"dataframe\">\n",
       "  <thead>\n",
       "    <tr style=\"text-align: right;\">\n",
       "      <th></th>\n",
       "      <th>consensus_ranking</th>\n",
       "      <th>player_name</th>\n",
       "      <th>team_name_abbrev</th>\n",
       "      <th>position</th>\n",
       "      <th>bye_week</th>\n",
       "      <th>best_ranking</th>\n",
       "      <th>worst_ranking</th>\n",
       "      <th>average_ranking</th>\n",
       "      <th>ranking_std</th>\n",
       "      <th>ADP</th>\n",
       "      <th>vs ADP</th>\n",
       "      <th>cluster</th>\n",
       "    </tr>\n",
       "  </thead>\n",
       "  <tbody>\n",
       "    <tr>\n",
       "      <th>478</th>\n",
       "      <td>479</td>\n",
       "      <td>Khari Blasingame</td>\n",
       "      <td>TEN</td>\n",
       "      <td>RB</td>\n",
       "      <td>7.0</td>\n",
       "      <td>363</td>\n",
       "      <td>363</td>\n",
       "      <td>363.0</td>\n",
       "      <td>0.0</td>\n",
       "      <td>NaN</td>\n",
       "      <td>NaN</td>\n",
       "      <td>2</td>\n",
       "    </tr>\n",
       "    <tr>\n",
       "      <th>479</th>\n",
       "      <td>480</td>\n",
       "      <td>Jordan Scarlett</td>\n",
       "      <td>CAR</td>\n",
       "      <td>RB</td>\n",
       "      <td>13.0</td>\n",
       "      <td>353</td>\n",
       "      <td>374</td>\n",
       "      <td>363.5</td>\n",
       "      <td>10.5</td>\n",
       "      <td>NaN</td>\n",
       "      <td>NaN</td>\n",
       "      <td>2</td>\n",
       "    </tr>\n",
       "    <tr>\n",
       "      <th>480</th>\n",
       "      <td>481</td>\n",
       "      <td>Devine Ozigbo</td>\n",
       "      <td>JAC</td>\n",
       "      <td>RB</td>\n",
       "      <td>7.0</td>\n",
       "      <td>366</td>\n",
       "      <td>385</td>\n",
       "      <td>376.7</td>\n",
       "      <td>7.9</td>\n",
       "      <td>NaN</td>\n",
       "      <td>NaN</td>\n",
       "      <td>2</td>\n",
       "    </tr>\n",
       "    <tr>\n",
       "      <th>481</th>\n",
       "      <td>482</td>\n",
       "      <td>Ross Dwelley</td>\n",
       "      <td>SF</td>\n",
       "      <td>TE</td>\n",
       "      <td>11.0</td>\n",
       "      <td>365</td>\n",
       "      <td>369</td>\n",
       "      <td>367.0</td>\n",
       "      <td>2.0</td>\n",
       "      <td>NaN</td>\n",
       "      <td>NaN</td>\n",
       "      <td>2</td>\n",
       "    </tr>\n",
       "    <tr>\n",
       "      <th>482</th>\n",
       "      <td>483</td>\n",
       "      <td>Richie James</td>\n",
       "      <td>SF</td>\n",
       "      <td>WR</td>\n",
       "      <td>11.0</td>\n",
       "      <td>369</td>\n",
       "      <td>379</td>\n",
       "      <td>374.0</td>\n",
       "      <td>5.0</td>\n",
       "      <td>NaN</td>\n",
       "      <td>NaN</td>\n",
       "      <td>2</td>\n",
       "    </tr>\n",
       "  </tbody>\n",
       "</table>\n",
       "</div>"
      ],
      "text/plain": [
       "     consensus_ranking       player_name team_name_abbrev position  bye_week  \\\n",
       "478                479  Khari Blasingame              TEN       RB       7.0   \n",
       "479                480   Jordan Scarlett              CAR       RB      13.0   \n",
       "480                481     Devine Ozigbo              JAC       RB       7.0   \n",
       "481                482      Ross Dwelley               SF       TE      11.0   \n",
       "482                483      Richie James               SF       WR      11.0   \n",
       "\n",
       "     best_ranking  worst_ranking  average_ranking  ranking_std  ADP  vs ADP  \\\n",
       "478           363            363            363.0          0.0  NaN     NaN   \n",
       "479           353            374            363.5         10.5  NaN     NaN   \n",
       "480           366            385            376.7          7.9  NaN     NaN   \n",
       "481           365            369            367.0          2.0  NaN     NaN   \n",
       "482           369            379            374.0          5.0  NaN     NaN   \n",
       "\n",
       "     cluster  \n",
       "478        2  \n",
       "479        2  \n",
       "480        2  \n",
       "481        2  \n",
       "482        2  "
      ]
     },
     "execution_count": 9,
     "metadata": {},
     "output_type": "execute_result"
    }
   ],
   "source": [
    "data_copy.tail()"
   ]
  },
  {
   "cell_type": "code",
   "execution_count": 10,
   "metadata": {},
   "outputs": [
    {
     "data": {
      "text/plain": [
       "0        6\n",
       "1        6\n",
       "2       11\n",
       "3       19\n",
       "4       13\n",
       "      ... \n",
       "478    363\n",
       "479    374\n",
       "480    385\n",
       "481    369\n",
       "482    379\n",
       "Name: worst_ranking, Length: 483, dtype: int64"
      ]
     },
     "execution_count": 10,
     "metadata": {},
     "output_type": "execute_result"
    }
   ],
   "source": [
    "data_copy['diff'] = data_copy['worst_ranking']-data_copy['best_ranking']\n",
    "data_copy['worst_ranking']"
   ]
  },
  {
   "cell_type": "code",
   "execution_count": 17,
   "metadata": {},
   "outputs": [],
   "source": [
    "error_bars = [data_copy['best_ranking'], data_copy['worst_ranking']]"
   ]
  },
  {
   "cell_type": "code",
   "execution_count": 12,
   "metadata": {},
   "outputs": [],
   "source": []
  },
  {
   "cell_type": "code",
   "execution_count": 19,
   "metadata": {},
   "outputs": [
    {
     "data": {
      "image/png": "[encoded data removed]",
      "text/plain": [
       "<Figure size 1080x720 with 1 Axes>"
      ]
     },
     "metadata": {
      "needs_background": "light"
     },
     "output_type": "display_data"
    }
   ],
   "source": [
    "data_copy = data_copy.iloc[:25]\n",
    "error_bars = error_bars[:25]\n",
    "\n",
    "fig, ax = plt.subplots(figsize=(15,10))\n",
    "plt.scatter(data_copy['average_ranking'], data_copy['consensus_ranking'].sort_values(ascending=True), c=data_copy['cluster'])\n",
    "plt.ylabel('Consensus Rank')\n",
    "plt.xlabel('Average Rank')\n",
    "plt.errorbar(data_copy['average_ranking'], data_copy['consensus_ranking'].sort_values(ascending=True), xerr=error_bars, linestyle='None')\n",
    "plt.grid()\n",
    "\n",
    "for i, txt in enumerate(data_copy['player_name']):\n",
    "    ax.annotate(txt, (data_copy['average_ranking'][i], data_copy['consensus_ranking'][i]))\n",
    "    \n",
    "plt.show()"
   ]
  },
  {
   "cell_type": "code",
   "execution_count": null,
   "metadata": {},
   "outputs": [],
   "source": [
    "color_iter = iter(plt.cm.rainbow(np.linspace(0, 5, len(data_copy['cluster'].unique()))))\n",
    "data_copy['color'] = [0]*len(data_copy['cluster'])\n",
    "print(color_iter)\n",
    "for clust in data_copy['cluster'].unique():\n",
    "    #curr_color = next(color_iter)\n",
    "    data_copy.loc[data_copy['cluster'] == clust, ['color']] = 'red'\n",
    "    \n",
    "data_copy.head()"
   ]
  },
  {
   "cell_type": "code",
   "execution_count": null,
   "metadata": {},
   "outputs": [],
   "source": [
    "fig, ax = plt.subplots(figsize=(15,10))\n",
    "\n",
    "seen_cluster = []\n",
    "for i in range(0,len(data_copy['player_name'])):\n",
    "    plt.scatter(data_copy['average_ranking'][i], data_copy['consensus_ranking'].sort_values(ascending=True)[i], c=colors[data_copy['cluster'][i]])\n",
    "    #plt.errorbar(data_copy['average_ranking'][i], data_copy['consensus_ranking'].sort_values(ascending=True)[i], xerr=error_bars[i], linestyle='None', ecolor=data_copy['cluster'])\n",
    "    #ax.annotate(data_copy['player_name'][i], (data_copy['average_ranking'][i], data_copy['consensus_ranking'][i]))"
   ]
  },
  {
   "cell_type": "code",
   "execution_count": null,
   "metadata": {},
   "outputs": [],
   "source": [
    "import seaborn as sns\n",
    "sns.pairplot(x_vars='average_ranking', y_vars='consensus_ranking', data=data_copy, hue='cluster')"
   ]
  },
  {
   "cell_type": "code",
   "execution_count": null,
   "metadata": {},
   "outputs": [],
   "source": []
  }
 ],
 "metadata": {
  "kernelspec": {
   "display_name": "Python 3",
   "language": "python",
   "name": "python3"
  },
  "language_info": {
   "codemirror_mode": {
    "name": "ipython",
    "version": 3
   },
   "file_extension": ".py",
   "mimetype": "text/x-python",
   "name": "python",
   "nbconvert_exporter": "python",
   "pygments_lexer": "ipython3",
   "version": "3.7.6"
  }
 },
 "nbformat": 4,
 "nbformat_minor": 4
}
